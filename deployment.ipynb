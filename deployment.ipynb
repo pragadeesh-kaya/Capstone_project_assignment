{
 "cells": [
  {
   "cell_type": "code",
   "execution_count": 1,
   "id": "13fc1c57",
   "metadata": {},
   "outputs": [
    {
     "name": "stdout",
     "output_type": "stream",
     "text": [
      "[1]\n"
     ]
    },
    {
     "name": "stderr",
     "output_type": "stream",
     "text": [
      "C:\\ProgramData\\anaconda3\\Lib\\site-packages\\sklearn\\base.py:464: UserWarning: X does not have valid feature names, but StandardScaler was fitted with feature names\n",
      "  warnings.warn(\n"
     ]
    }
   ],
   "source": [
    "import pickle\n",
    "\n",
    "loaded_model = pickle.load(open(\"finalized_model_LogisticRegression.sav\", 'rb'))\n",
    "scaler = pickle.load(open(\"scaler.pkl\", 'rb'))\n",
    "\n",
    "input_data = [[20.3, 1.2, 28.5, 0.45, 0.23]]\n",
    "\n",
    "scaled_input = scaler.transform(input_data)\n",
    "\n",
    "result = loaded_model.predict(scaled_input)\n",
    "print(result)"
   ]
  },
  {
   "cell_type": "code",
   "execution_count": 2,
   "id": "c5f40872",
   "metadata": {},
   "outputs": [
    {
     "name": "stdout",
     "output_type": "stream",
     "text": [
      "[0]\n"
     ]
    },
    {
     "name": "stderr",
     "output_type": "stream",
     "text": [
      "C:\\ProgramData\\anaconda3\\Lib\\site-packages\\sklearn\\base.py:464: UserWarning: X does not have valid feature names, but StandardScaler was fitted with feature names\n",
      "  warnings.warn(\n"
     ]
    }
   ],
   "source": [
    "input_data = [[12.1, 0.4, 13.3, 0.02, 0.01]]\n",
    "\n",
    "scaled_input = scaler.transform(input_data)\n",
    "\n",
    "result1 = loaded_model.predict(scaled_input)\n",
    "print(result1)  "
   ]
  },
  {
   "cell_type": "code",
   "execution_count": null,
   "id": "f5c90465",
   "metadata": {},
   "outputs": [],
   "source": []
  }
 ],
 "metadata": {
  "kernelspec": {
   "display_name": "Python 3 (ipykernel)",
   "language": "python",
   "name": "python3"
  },
  "language_info": {
   "codemirror_mode": {
    "name": "ipython",
    "version": 3
   },
   "file_extension": ".py",
   "mimetype": "text/x-python",
   "name": "python",
   "nbconvert_exporter": "python",
   "pygments_lexer": "ipython3",
   "version": "3.11.5"
  }
 },
 "nbformat": 4,
 "nbformat_minor": 5
}
