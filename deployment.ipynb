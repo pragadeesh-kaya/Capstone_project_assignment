{
 "cells": [
  {
   "cell_type": "code",
   "execution_count": 1,
   "id": "13fc1c57",
   "metadata": {},
   "outputs": [
    {
     "name": "stdout",
     "output_type": "stream",
     "text": [
      "[1]\n"
     ]
    },
    {
     "name": "stderr",
     "output_type": "stream",
     "text": [
      "C:\\ProgramData\\anaconda3\\Lib\\site-packages\\sklearn\\base.py:464: UserWarning: X does not have valid feature names, but StandardScaler was fitted with feature names\n",
      "  warnings.warn(\n"
     ]
    }
   ],
   "source": [
    "import pickle\n",
    "\n",
    "loaded_model = pickle.load(open(\"finalized_model_LogisticRegression.sav\", 'rb'))\n",
    "scaler = pickle.load(open(\"scaler.pkl\", 'rb'))\n",
    "\n",
    "input_data = [[\n",
    "    20.57, 17.77, 132.9, 1326.0, 0.08474, 0.07864, 0.0869, 0.07017, 0.1812, 0.05667,\n",
    "    1.095, 0.9053, 8.589, 153.4, 0.006399, 0.04904, 0.05373, 0.01587, 0.03003, 0.006193,\n",
    "    25.38, 17.33, 184.6, 2019.0, 0.1622, 0.6656, 0.7119, 0.2654, 0.4601, 0.1189\n",
    "]]\n",
    "\n",
    "scaled_input = scaler.transform(input_data)\n",
    "\n",
    "result = loaded_model.predict(scaled_input)\n",
    "print(result)"
   ]
  },
  {
   "cell_type": "code",
   "execution_count": 2,
   "id": "c5f40872",
   "metadata": {},
   "outputs": [
    {
     "name": "stdout",
     "output_type": "stream",
     "text": [
      "[0]\n"
     ]
    },
    {
     "name": "stderr",
     "output_type": "stream",
     "text": [
      "C:\\ProgramData\\anaconda3\\Lib\\site-packages\\sklearn\\base.py:464: UserWarning: X does not have valid feature names, but StandardScaler was fitted with feature names\n",
      "  warnings.warn(\n"
     ]
    }
   ],
   "source": [
    "input_data = [[\n",
    "    12.45, 15.7, 82.57, 477.1, 0.1278, 0.17, 0.1578, 0.08089, 0.2087, 0.07613,\n",
    "    0.3345, 1.59, 2.128, 24.64, 0.007803, 0.053, 0.0623, 0.02058, 0.01979, 0.004365,\n",
    "    13.74, 22.01, 88.65, 590.2, 0.1495, 0.3627, 0.3409, 0.1418, 0.2218, 0.0782\n",
    "]]\n",
    "\n",
    "scaled_input = scaler.transform(input_data)\n",
    "\n",
    "result1 = loaded_model.predict(scaled_input)\n",
    "print(result1)  "
   ]
  },
  {
   "cell_type": "code",
   "execution_count": null,
   "id": "f5c90465",
   "metadata": {},
   "outputs": [],
   "source": []
  }
 ],
 "metadata": {
  "kernelspec": {
   "display_name": "Python 3 (ipykernel)",
   "language": "python",
   "name": "python3"
  },
  "language_info": {
   "codemirror_mode": {
    "name": "ipython",
    "version": 3
   },
   "file_extension": ".py",
   "mimetype": "text/x-python",
   "name": "python",
   "nbconvert_exporter": "python",
   "pygments_lexer": "ipython3",
   "version": "3.11.5"
  }
 },
 "nbformat": 4,
 "nbformat_minor": 5
}
